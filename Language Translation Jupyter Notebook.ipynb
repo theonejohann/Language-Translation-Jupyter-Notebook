{
 "cells": [
  {
   "cell_type": "markdown",
   "id": "faaa9b89-a24c-42de-b335-b2a05b0a46a4",
   "metadata": {},
   "source": [
    "# Language Translation Jupyter Notebook"
   ]
  },
  {
   "cell_type": "markdown",
   "id": "7c01576c-a1a4-47b7-bdd7-23d294662823",
   "metadata": {},
   "source": [
    "---"
   ]
  },
  {
   "cell_type": "markdown",
   "id": "116a59a3-64aa-42e1-aa42-bfde8343a54e",
   "metadata": {},
   "source": [
    "## Setup:"
   ]
  },
  {
   "cell_type": "code",
   "execution_count": null,
   "id": "fa4fe4ac-afdc-4576-b142-b4729c2c5f47",
   "metadata": {},
   "outputs": [],
   "source": [
    "!pip3 install torch torchvision torchaudio"
   ]
  },
  {
   "cell_type": "code",
   "execution_count": null,
   "id": "ae966fe5-e393-4235-9e0e-ae1bd2a3bac5",
   "metadata": {},
   "outputs": [],
   "source": [
    "!pip3 install transformers ipywidgets gradio --upgrade"
   ]
  },
  {
   "cell_type": "code",
   "execution_count": 10,
   "id": "afff2b7b-1215-4d0a-923a-dd01c18cf751",
   "metadata": {},
   "outputs": [],
   "source": [
    "import gradio as gr\n",
    "from transformers import pipeline"
   ]
  },
  {
   "cell_type": "markdown",
   "id": "ca5dddfc-57fc-4666-8724-0910a8d774ed",
   "metadata": {},
   "source": [
    "## Pipeline"
   ]
  },
  {
   "cell_type": "code",
   "execution_count": 11,
   "id": "2d2198ba-1cce-4bee-80f9-63044576aed0",
   "metadata": {},
   "outputs": [
    {
     "name": "stderr",
     "output_type": "stream",
     "text": [
      "No model was supplied, defaulted to t5-base (https://huggingface.co/t5-base)\n",
      "C:\\Users\\one\\anaconda3\\lib\\site-packages\\transformers\\models\\t5\\tokenization_t5_fast.py:156: FutureWarning: This tokenizer was incorrectly instantiated with a model max length of 512 which will be corrected in Transformers v5.\n",
      "For now, this behavior is kept to avoid breaking backwards compatibility when padding/encoding with `truncation is True`.\n",
      "- Be aware that you SHOULD NOT rely on t5-base automatically truncating your input to 512 when padding/encoding.\n",
      "- If you want to encode/pad to sequences longer than 512 you can either instantiate this tokenizer with `model_max_length` or pass `max_length` when encoding/padding.\n",
      "- To avoid this warning, please instantiate this tokenizer with `model_max_length` set to your preferred value.\n",
      "  warnings.warn(\n"
     ]
    }
   ],
   "source": [
    "translation_pipeline = pipeline('translation_en_to_de')"
   ]
  },
  {
   "cell_type": "code",
   "execution_count": 12,
   "id": "597bca75-87af-4fd8-9d7c-3bff0ba4052d",
   "metadata": {},
   "outputs": [
    {
     "data": {
      "text/plain": [
       "[{'translation_text': 'Ich liebe Pizza'}]"
      ]
     },
     "execution_count": 12,
     "metadata": {},
     "output_type": "execute_result"
    }
   ],
   "source": [
    "translation_pipeline(\"I love pizza\")"
   ]
  },
  {
   "cell_type": "markdown",
   "id": "6eee40a2-278f-484f-9cc9-304ba3520f5e",
   "metadata": {},
   "source": [
    "## Gradio Function & Interface"
   ]
  },
  {
   "cell_type": "code",
   "execution_count": 13,
   "id": "e2e1a5cd-0b91-4fec-812f-59b9896e132e",
   "metadata": {},
   "outputs": [],
   "source": [
    "def translate_transformers(from_text):\n",
    "    results = translation_pipeline(from_text)\n",
    "    return results[0]['translation_text']"
   ]
  },
  {
   "cell_type": "code",
   "execution_count": 14,
   "id": "34a765c2-370c-4bb4-b722-0afde07d71be",
   "metadata": {},
   "outputs": [
    {
     "data": {
      "text/plain": [
       "'Ich liebe Pizza'"
      ]
     },
     "execution_count": 14,
     "metadata": {},
     "output_type": "execute_result"
    }
   ],
   "source": [
    "translate_transformers(\"I love pizza\")"
   ]
  },
  {
   "cell_type": "code",
   "execution_count": 15,
   "id": "93402876-4d49-410e-bfc4-51152ef5ffb6",
   "metadata": {},
   "outputs": [
    {
     "name": "stderr",
     "output_type": "stream",
     "text": [
      "C:\\Users\\one\\anaconda3\\lib\\site-packages\\gradio\\deprecation.py:40: UserWarning: `optional` parameter is deprecated, and it has no effect\n",
      "  warnings.warn(value)\n",
      "C:\\Users\\one\\anaconda3\\lib\\site-packages\\gradio\\deprecation.py:40: UserWarning: `numeric` parameter is deprecated, and it has no effect\n",
      "  warnings.warn(value)\n",
      "C:\\Users\\one\\anaconda3\\lib\\site-packages\\gradio\\deprecation.py:40: UserWarning: The 'type' parameter has been deprecated. Use the Number component instead.\n",
      "  warnings.warn(value)\n"
     ]
    }
   ],
   "source": [
    "interface = gr.Interface(fn=translate_transformers, inputs=gr.inputs.Textbox(lines=2, placeholder=\"Enter Text to Translate\"), outputs=\"text\")"
   ]
  },
  {
   "cell_type": "code",
   "execution_count": 16,
   "id": "c47eea68-6464-4ba0-91e4-5651dac5f4a7",
   "metadata": {},
   "outputs": [
    {
     "name": "stdout",
     "output_type": "stream",
     "text": [
      "Running on local URL:  http://127.0.0.1:7861/\n",
      "\n",
      "To create a public link, set `share=True` in `launch()`.\n"
     ]
    },
    {
     "data": {
      "text/html": [
       "<div><iframe src=\"http://127.0.0.1:7861/\" width=\"900\" height=\"500\" allow=\"autoplay; camera; microphone;\" frameborder=\"0\" allowfullscreen></iframe></div>"
      ],
      "text/plain": [
       "<IPython.core.display.HTML object>"
      ]
     },
     "metadata": {},
     "output_type": "display_data"
    },
    {
     "data": {
      "text/plain": [
       "(<gradio.routes.App at 0x1b312632af0>, 'http://127.0.0.1:7861/', None)"
      ]
     },
     "execution_count": 16,
     "metadata": {},
     "output_type": "execute_result"
    }
   ],
   "source": [
    "interface.launch()"
   ]
  }
 ],
 "metadata": {
  "kernelspec": {
   "display_name": "Python 3 (ipykernel)",
   "language": "python",
   "name": "python3"
  },
  "language_info": {
   "codemirror_mode": {
    "name": "ipython",
    "version": 3
   },
   "file_extension": ".py",
   "mimetype": "text/x-python",
   "name": "python",
   "nbconvert_exporter": "python",
   "pygments_lexer": "ipython3",
   "version": "3.9.12"
  }
 },
 "nbformat": 4,
 "nbformat_minor": 5
}
